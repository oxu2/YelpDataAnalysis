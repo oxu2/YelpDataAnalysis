{
 "cells": [
  {
   "cell_type": "code",
   "execution_count": 3,
   "source": [
    "\n",
    "from gensim import corpora\n",
    "from six import iteritems\n",
    "import re\n",
    "import codecs\n",
    "import copy\n",
    "from functools import reduce\n",
    "import pandas as pd\n",
    "import matplotlib.pyplot as plt\n",
    "import seaborn as sns\n",
    "import warnings\n",
    "from gensim.models import LdaModel, CoherenceModel\n",
    "import numpy as np\n",
    "import pyLDAvis\n",
    "import pyLDAvis.gensim_models\n",
    "import os\n",
    "import random\n",
    "from nltk.stem import WordNetLemmatizer\n",
    "wnl = WordNetLemmatizer()"
   ],
   "outputs": [],
   "metadata": {}
  },
  {
   "cell_type": "code",
   "execution_count": 4,
   "source": [
    "df_good = pd.read_csv('good_review.csv')\n",
    "df_bad = pd.read_csv('bad_review.csv')\n",
    "df_good = df_good[df_good['doclength']>=20]\n",
    "df_bad = df_bad[df_bad['doclength']>=20]"
   ],
   "outputs": [],
   "metadata": {}
  },
  {
   "cell_type": "code",
   "execution_count": 6,
   "source": [
    "\n",
    "\n",
    "#提取2018年的做为test\n",
    "# df_good = df_good[df_good['year']==2018]\n",
    "# df_bad = df_bad[df_bad['year']==2018]\n",
    "\n",
    "df_good_spring = df_good[(df_good['month']==3)|(df_good['month']==4)|(df_good['month']==5)]\n",
    "df_bad_spring = df_bad[(df_bad['month']==3)|(df_bad['month']==4)|(df_bad['month']==5)]\n",
    "\n",
    "text_good_spring = df_good_spring['text']\n",
    "text_bad_spring = df_bad_spring['text']\n",
    "\n"
   ],
   "outputs": [],
   "metadata": {}
  },
  {
   "cell_type": "code",
   "execution_count": 7,
   "source": [
    "dictionary = corpora.Dictionary(line.lower().split() for line in text_good_spring)\n",
    "four_ids = [tokenid for tokenid, docfreq in iteritems(dictionary.dfs) if docfreq <= 3]\n",
    "dictionary.filter_tokens(four_ids)  # 去除只出现过一次的词\n",
    "dictionary.compactify()       # 删除去除单词后的空格\n",
    "\n",
    "text = []\n",
    "for line in text_good_spring:\n",
    "    text.append(line.lower().split())\n",
    "\n",
    "class MyCorpus(object):\n",
    "    def __iter__(self):\n",
    "        for line in text_good_spring:\n",
    "            yield dictionary.doc2bow(line.lower().split())\n",
    "corpus_memory_friendly = MyCorpus()\n",
    "corpus = [vector for vector in corpus_memory_friendly]  # 将读取的文档转换成语料库\n",
    "\n",
    "LDA_models = LdaModel(corpus=corpus,id2word= dictionary, num_topics=4,\n",
    "                      update_every=1,chunksize=len(corpus),passes=100, alpha='auto',random_state=42)\n"
   ],
   "outputs": [],
   "metadata": {}
  },
  {
   "cell_type": "code",
   "execution_count": null,
   "source": [
    "data = pyLDAvis.gensim_models.prepare(LDA_models, corpus, dictionary)\n",
    "pyLDAvis.save_html(data,'../vis_lda_good_spring_4.html')\n",
    "\n",
    "LDA_models.save(\"../Lda_Model_good_spring_4\")"
   ],
   "outputs": [],
   "metadata": {}
  },
  {
   "cell_type": "code",
   "execution_count": null,
   "source": [],
   "outputs": [],
   "metadata": {}
  }
 ],
 "metadata": {
  "orig_nbformat": 4,
  "language_info": {
   "name": "python",
   "version": "3.9.6",
   "mimetype": "text/x-python",
   "codemirror_mode": {
    "name": "ipython",
    "version": 3
   },
   "pygments_lexer": "ipython3",
   "nbconvert_exporter": "python",
   "file_extension": ".py"
  },
  "kernelspec": {
   "name": "python3",
   "display_name": "Python 3.9.6 64-bit ('base': conda)"
  },
  "interpreter": {
   "hash": "a6adf963f51b9daea38c4a24fe06ea29d6b0750f903a241d57a9ab96929fb5ab"
  }
 },
 "nbformat": 4,
 "nbformat_minor": 2
}