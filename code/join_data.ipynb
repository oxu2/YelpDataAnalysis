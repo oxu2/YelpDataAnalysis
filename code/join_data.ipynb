{
 "cells": [
  {
   "cell_type": "markdown",
   "source": [
    "***Run data from business***"
   ],
   "metadata": {}
  },
  {
   "cell_type": "code",
   "execution_count": null,
   "source": [
    "import json\n",
    "import pandas as pd\n",
    "\n",
    "data = []\n",
    "with open('../business.json','rb') as f:\n",
    "    while True:\n",
    "        line_data = f.readline()\n",
    "        if not line_data:\n",
    "            break\n",
    "        temp = json.loads(line_data)\n",
    "        categories = str(temp['categories'])\n",
    "        if('Sandwiches' in categories or 'Burgers' in categories) and ('Pizza' not in categories) and ('Barbecue' not in categories) and ('Barbeque' not in categories):\n",
    "            data.append(temp)\n",
    "data = pd.DataFrame(data)\n",
    "data.to_csv('../sandwiches.csv')"
   ],
   "outputs": [],
   "metadata": {}
  },
  {
   "cell_type": "markdown",
   "source": [
    "read data from review"
   ],
   "metadata": {}
  },
  {
   "cell_type": "code",
   "execution_count": 1,
   "source": [
    "import json\n",
    "import pandas as pd\n",
    "\n",
    "data = []\n",
    "with open('../review.json','rb') as f:\n",
    "    while True:\n",
    "        line_data = f.readline()\n",
    "        if not line_data:\n",
    "            break\n",
    "        temp = json.loads(line_data)\n",
    "        data.append(temp)\n",
    "review = pd.DataFrame(data)"
   ],
   "outputs": [],
   "metadata": {}
  },
  {
   "cell_type": "markdown",
   "source": [
    "Merge data"
   ],
   "metadata": {}
  },
  {
   "cell_type": "code",
   "execution_count": 2,
   "source": [
    "review = pd.DataFrame(data)\n",
    "sandwiches = pd.read_csv('../sandwiches.csv')\n",
    "review['business_id']=review['business_id'].astype(str)\n",
    "sandwiches['business_id']=sandwiches['business_id'].astype(str)\n",
    "sandwiches_review = pd.merge(review,sandwiches,how='inner',on='business_id')\n",
    "sandwiches_review.to_csv('../sandwiches_review.csv')"
   ],
   "outputs": [],
   "metadata": {}
  },
  {
   "cell_type": "code",
   "execution_count": null,
   "source": [],
   "outputs": [],
   "metadata": {}
  }
 ],
 "metadata": {
  "orig_nbformat": 4,
  "language_info": {
   "name": "python",
   "version": "3.9.6",
   "mimetype": "text/x-python",
   "codemirror_mode": {
    "name": "ipython",
    "version": 3
   },
   "pygments_lexer": "ipython3",
   "nbconvert_exporter": "python",
   "file_extension": ".py"
  },
  "kernelspec": {
   "name": "python3",
   "display_name": "Python 3.9.6 64-bit ('base': conda)"
  },
  "interpreter": {
   "hash": "a6adf963f51b9daea38c4a24fe06ea29d6b0750f903a241d57a9ab96929fb5ab"
  }
 },
 "nbformat": 4,
 "nbformat_minor": 2
}
